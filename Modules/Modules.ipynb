{
 "cells": [
  {
   "cell_type": "markdown",
   "id": "779a9769",
   "metadata": {},
   "source": [
    "### Assignment-07 (Module_in_Python)\n"
   ]
  },
  {
   "cell_type": "markdown",
   "id": "46e7a5c0",
   "metadata": {},
   "source": [
    "Explain the difference between import module and from module import *. Provide an example for each.\n"
   ]
  },
  {
   "cell_type": "code",
   "execution_count": 1,
   "id": "3e218580",
   "metadata": {},
   "outputs": [
    {
     "name": "stdout",
     "output_type": "stream",
     "text": [
      "5.0\n",
      "5.0\n"
     ]
    }
   ],
   "source": [
    "# import module imports the entire module, and you access its members using dot notation (module.member). \n",
    "# On the other hand, from module import * imports all names defined in the module directly into your namespace, allowing you to access them without prefixing with the module name. \n",
    "\n",
    "import math # Now we have to use prefix with math module\n",
    "print(math.sqrt(25))  \n",
    "\n",
    "from math import *\n",
    "# Using functions from the math module directly without prefixing\n",
    "print(sqrt(25))  # Output: 5.0\n"
   ]
  },
  {
   "cell_type": "markdown",
   "id": "935bbfe7",
   "metadata": {},
   "source": [
    "What is an alias, and how can it be used while importing a module? Provide an example.\n"
   ]
  },
  {
   "cell_type": "code",
   "execution_count": 2,
   "id": "944a369c",
   "metadata": {},
   "outputs": [
    {
     "name": "stdout",
     "output_type": "stream",
     "text": [
      "5.0\n"
     ]
    }
   ],
   "source": [
    "# In Python, an alias is an alternate name that you can give to a module or any other identifier. \n",
    "# Aliasing is commonly used to provide a shorter or more convenient name for a module, especially when the original name is long or when there's a potential naming conflict.\n",
    "\n",
    "\n",
    "import math as m\n",
    "print(m.sqrt(25))"
   ]
  },
  {
   "cell_type": "markdown",
   "id": "1e1d37c8",
   "metadata": {},
   "source": [
    "Demonstrate the use of the importlib module to import a module dynamically."
   ]
  },
  {
   "cell_type": "code",
   "execution_count": 3,
   "id": "cd334b12",
   "metadata": {},
   "outputs": [
    {
     "name": "stdout",
     "output_type": "stream",
     "text": [
      "Module 'math' imported successfully.\n",
      "5.0\n"
     ]
    }
   ],
   "source": [
    "import importlib\n",
    "\n",
    "module_name = \"math\"\n",
    "\n",
    "try:\n",
    "    imported_module = importlib.import_module(module_name)\n",
    "    print(f\"Module '{module_name}' imported successfully.\")\n",
    "    print(imported_module.sqrt(25))  \n",
    "except ImportError:\n",
    "    print(f\"Error: Module '{module_name}' not found or could not be imported.\")\n"
   ]
  },
  {
   "cell_type": "markdown",
   "id": "520b6194",
   "metadata": {},
   "source": [
    "Implement a function that takes an angle in degrees and converts it to radians using the math module."
   ]
  },
  {
   "cell_type": "code",
   "execution_count": 4,
   "id": "944626ba",
   "metadata": {},
   "outputs": [
    {
     "name": "stdout",
     "output_type": "stream",
     "text": [
      "45 degrees is equal to 0.79 radians.\n"
     ]
    }
   ],
   "source": [
    "import math\n",
    "\n",
    "def degrees_to_radians(angle_degrees):\n",
    "    return angle_degrees * (math.pi / 180)\n",
    "\n",
    "angle_degrees = 45\n",
    "angle_radians = degrees_to_radians(angle_degrees)\n",
    "print(f\"{angle_degrees} degrees is equal to {angle_radians:.2f} radians.\")\n"
   ]
  },
  {
   "cell_type": "markdown",
   "id": "b81395fe",
   "metadata": {},
   "source": [
    "Create a program that simulates the rolling of a six-sided die using the random module."
   ]
  },
  {
   "cell_type": "code",
   "execution_count": 5,
   "id": "f5698b8a",
   "metadata": {},
   "outputs": [
    {
     "name": "stdout",
     "output_type": "stream",
     "text": [
      "Rolling the die 5 times:\n",
      "Roll 1: 5\n",
      "Roll 2: 1\n",
      "Roll 3: 3\n",
      "Roll 4: 2\n",
      "Roll 5: 3\n"
     ]
    }
   ],
   "source": [
    "import random\n",
    "\n",
    "def roll_die():\n",
    "    return random.randint(1, 6)\n",
    "\n",
    "print(\"Rolling the die 5 times:\")\n",
    "for i in range(5):\n",
    "    result = roll_die()\n",
    "    print(f\"Roll {i+1}: {result}\")\n"
   ]
  },
  {
   "cell_type": "markdown",
   "id": "aefd02a7",
   "metadata": {},
   "source": [
    "Implement a timer function that measures the execution time of a piece of code using the time module."
   ]
  },
  {
   "cell_type": "code",
   "execution_count": null,
   "id": "b779c39c",
   "metadata": {},
   "outputs": [],
   "source": []
  },
  {
   "cell_type": "markdown",
   "id": "6d6cdae3",
   "metadata": {},
   "source": [
    "Write a function that calculates the difference in days between two given dates using the datetime module."
   ]
  },
  {
   "cell_type": "code",
   "execution_count": 6,
   "id": "65c3ce92",
   "metadata": {},
   "outputs": [
    {
     "name": "stdout",
     "output_type": "stream",
     "text": [
      "Execution time of 'example_function': 2.001300 seconds\n"
     ]
    }
   ],
   "source": [
    "import time\n",
    "\n",
    "def timer(func):\n",
    "    def wrapper(*args, **kwargs):\n",
    "        start_time = time.time()\n",
    "        result = func(*args, **kwargs)\n",
    "        end_time = time.time()\n",
    "        print(f\"Execution time of '{func.__name__}': {end_time - start_time:.6f} seconds\")\n",
    "        return result\n",
    "    return wrapper\n",
    "\n",
    "@timer\n",
    "def example_function():\n",
    "    time.sleep(2)\n",
    "\n",
    "example_function()\n"
   ]
  },
  {
   "cell_type": "markdown",
   "id": "729111d8",
   "metadata": {},
   "source": [
    "Implement a program that checks if a given year is a leap year using the calendar module."
   ]
  },
  {
   "cell_type": "code",
   "execution_count": 7,
   "id": "067716aa",
   "metadata": {},
   "outputs": [
    {
     "name": "stdout",
     "output_type": "stream",
     "text": [
      "2009 is not a leap year.\n"
     ]
    }
   ],
   "source": [
    "import calendar\n",
    "\n",
    "def is_leap_year(year):\n",
    "    return calendar.isleap(year)\n",
    "\n",
    "year = int(input(\"Enter a year: \"))\n",
    "if is_leap_year(year):\n",
    "    print(f\"{year} is a leap year.\")\n",
    "else:\n",
    "    print(f\"{year} is not a leap year.\")\n"
   ]
  },
  {
   "cell_type": "markdown",
   "id": "8c4f73f2",
   "metadata": {},
   "source": [
    "Create a program that checks if a specific file exists in a given directory using the os module."
   ]
  },
  {
   "cell_type": "code",
   "execution_count": 8,
   "id": "f62123d1",
   "metadata": {},
   "outputs": [
    {
     "name": "stdout",
     "output_type": "stream",
     "text": [
      "The file 'f' does not exist in the directory 'f'.\n"
     ]
    }
   ],
   "source": [
    "import os\n",
    "\n",
    "def check_file_exists(directory, filename):\n",
    "    file_path = os.path.join(directory, filename)\n",
    "    return os.path.isfile(file_path)\n",
    "\n",
    "directory = input(\"Enter the directory path: \")\n",
    "filename = input(\"Enter the filename: \")\n",
    "\n",
    "if check_file_exists(directory, filename):\n",
    "    print(f\"The file '{filename}' exists in the directory '{directory}'.\")\n",
    "else:\n",
    "    print(f\"The file '{filename}' does not exist in the directory '{directory}'.\")\n"
   ]
  },
  {
   "cell_type": "markdown",
   "id": "c1b34e47",
   "metadata": {},
   "source": [
    "Write a program that uses threading to perform parallel execution of three tasks."
   ]
  },
  {
   "cell_type": "code",
   "execution_count": 9,
   "id": "954bcf1d",
   "metadata": {},
   "outputs": [
    {
     "name": "stdout",
     "output_type": "stream",
     "text": [
      "Starting task: Task 1\n",
      "Starting task: Task 2\n",
      "Starting task: Task 3\n",
      "Task Task 1 completed\n",
      "Task Task 2 completed\n",
      "Task Task 3 completed\n",
      "All tasks completed\n"
     ]
    }
   ],
   "source": [
    "import threading\n",
    "import time\n",
    "\n",
    "def task(task_name):\n",
    "    print(f\"Starting task: {task_name}\")\n",
    "    time.sleep(2)  \n",
    "    print(f\"Task {task_name} completed\")\n",
    "\n",
    "tasks = [\"Task 1\", \"Task 2\", \"Task 3\"]\n",
    "\n",
    "threads = [threading.Thread(target=task, args=(task_name,)) for task_name in tasks]\n",
    "\n",
    "for thread in threads:\n",
    "    thread.start()\n",
    "\n",
    "# Wait for all threads to complete\n",
    "for thread in threads:\n",
    "    thread.join()\n",
    "\n",
    "print(\"All tasks completed\")\n"
   ]
  },
  {
   "cell_type": "markdown",
   "id": "0fdd3e7c",
   "metadata": {},
   "source": [
    "Implement a program that downloads an image from a URL using the urllib module."
   ]
  },
  {
   "cell_type": "code",
   "execution_count": 10,
   "id": "950950d9",
   "metadata": {},
   "outputs": [
    {
     "name": "stdout",
     "output_type": "stream",
     "text": [
      "Error downloading image: HTTP Error 404: Not Found\n"
     ]
    }
   ],
   "source": [
    "import urllib.request\n",
    "\n",
    "def download_image(url, filename):\n",
    "    \n",
    "    try:\n",
    "        urllib.request.urlretrieve(url, filename)\n",
    "        print(f\"Image downloaded successfully and saved as '{filename}'.\")\n",
    "    except Exception as e:\n",
    "        print(f\"Error downloading image: {e}\")\n",
    "\n",
    "url = \"https://example.com/image.jpg\"\n",
    "filename = \"downloaded_image.jpg\"\n",
    "download_image(url, filename)\n"
   ]
  }
 ],
 "metadata": {
  "kernelspec": {
   "display_name": "Python 3 (ipykernel)",
   "language": "python",
   "name": "python3"
  },
  "language_info": {
   "codemirror_mode": {
    "name": "ipython",
    "version": 3
   },
   "file_extension": ".py",
   "mimetype": "text/x-python",
   "name": "python",
   "nbconvert_exporter": "python",
   "pygments_lexer": "ipython3",
   "version": "3.12.0"
  }
 },
 "nbformat": 4,
 "nbformat_minor": 5
}
