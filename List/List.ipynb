{
 "cells": [
  {
   "cell_type": "markdown",
   "id": "48147901",
   "metadata": {},
   "source": [
    "### Assignment-01 (List)\n",
    "- Change the notebook name with your name and Roll Number.\n",
    "- Try this as your own, no chatgpt (it's for your learning)\n",
    "- after completing the assignment, submit this book on google class room."
   ]
  },
  {
   "cell_type": "markdown",
   "id": "4a0551ca",
   "metadata": {},
   "source": [
    "Create an empty list and print it.\n"
   ]
  },
  {
   "cell_type": "code",
   "execution_count": 32,
   "id": "d2923b71",
   "metadata": {},
   "outputs": [
    {
     "name": "stdout",
     "output_type": "stream",
     "text": [
      "[]\n"
     ]
    }
   ],
   "source": [
    "my_list = []\n",
    "print(my_list)\n"
   ]
  },
  {
   "cell_type": "markdown",
   "id": "fa6b638e",
   "metadata": {},
   "source": [
    "Create a list of your favorite colors and print it.\n"
   ]
  },
  {
   "cell_type": "code",
   "execution_count": 33,
   "id": "c549875c",
   "metadata": {},
   "outputs": [
    {
     "name": "stdout",
     "output_type": "stream",
     "text": [
      "['black', 'blue', 'red']\n"
     ]
    }
   ],
   "source": [
    "fvrt_colors = [\"black\", \"blue\", \"red\"]\n",
    "print(fvrt_colors)\n"
   ]
  },
  {
   "cell_type": "markdown",
   "id": "4a1371d4",
   "metadata": {},
   "source": [
    "Create a list that includes a mix of data types (integers, strings, floats).\n"
   ]
  },
  {
   "cell_type": "code",
   "execution_count": 34,
   "id": "dfc878e2",
   "metadata": {},
   "outputs": [
    {
     "name": "stdout",
     "output_type": "stream",
     "text": [
      "[1, 'apple', 3.14, 'banana', 5]\n"
     ]
    }
   ],
   "source": [
    "mixed_list = [1, \"apple\", 3.14, \"banana\", 5]\n",
    "print(mixed_list)\n"
   ]
  },
  {
   "cell_type": "markdown",
   "id": "2916cde7",
   "metadata": {},
   "source": [
    "Access the first element of a list.\n"
   ]
  },
  {
   "cell_type": "code",
   "execution_count": 35,
   "id": "a0a7b3d2",
   "metadata": {},
   "outputs": [
    {
     "name": "stdout",
     "output_type": "stream",
     "text": [
      "1\n"
     ]
    }
   ],
   "source": [
    "first_element = mixed_list[0]\n",
    "print(first_element)\n"
   ]
  },
  {
   "cell_type": "markdown",
   "id": "13b39ea7",
   "metadata": {},
   "source": [
    "Access the last element of a list."
   ]
  },
  {
   "cell_type": "code",
   "execution_count": 36,
   "id": "4f8cf5da",
   "metadata": {},
   "outputs": [
    {
     "name": "stdout",
     "output_type": "stream",
     "text": [
      "5\n"
     ]
    }
   ],
   "source": [
    "first_element = mixed_list[-1]\n",
    "print(first_element)\n"
   ]
  },
  {
   "cell_type": "markdown",
   "id": "ef7e0f8d",
   "metadata": {},
   "source": [
    " Access the second and third elements of a list.\n"
   ]
  },
  {
   "cell_type": "code",
   "execution_count": 37,
   "id": "e215ceed",
   "metadata": {},
   "outputs": [
    {
     "name": "stdout",
     "output_type": "stream",
     "text": [
      "apple , 3.14\n"
     ]
    }
   ],
   "source": [
    "second_element = mixed_list[1]\n",
    "third_element = mixed_list[2]\n",
    "print(second_element, \",\", third_element)\n"
   ]
  },
  {
   "cell_type": "markdown",
   "id": "16ef79f1",
   "metadata": {},
   "source": [
    "\n",
    "Slice a list to extract the first three elements.\n"
   ]
  },
  {
   "cell_type": "code",
   "execution_count": 38,
   "id": "86d94d3c",
   "metadata": {},
   "outputs": [
    {
     "name": "stdout",
     "output_type": "stream",
     "text": [
      "[1, 'apple', 3.14]\n"
     ]
    }
   ],
   "source": [
    "first_three_elements = mixed_list[:3]\n",
    "print(first_three_elements)\n"
   ]
  },
  {
   "cell_type": "markdown",
   "id": "717afad5",
   "metadata": {},
   "source": [
    "Slice a list to extract the last three elements.\n"
   ]
  },
  {
   "cell_type": "code",
   "execution_count": 39,
   "id": "2f79b771",
   "metadata": {},
   "outputs": [
    {
     "name": "stdout",
     "output_type": "stream",
     "text": [
      "[3.14, 'banana', 5]\n"
     ]
    }
   ],
   "source": [
    "last_three_elements = mixed_list[-3:]\n",
    "print(last_three_elements)\n"
   ]
  },
  {
   "cell_type": "markdown",
   "id": "da7f582e",
   "metadata": {},
   "source": [
    "Slice a list to get every second element.\n"
   ]
  },
  {
   "cell_type": "code",
   "execution_count": 40,
   "id": "4edeea3d",
   "metadata": {},
   "outputs": [
    {
     "name": "stdout",
     "output_type": "stream",
     "text": [
      "[1, 3.14, 5]\n"
     ]
    }
   ],
   "source": [
    "every_second_element = mixed_list[::2]\n",
    "print(every_second_element)\n"
   ]
  },
  {
   "cell_type": "markdown",
   "id": "011bb9f7",
   "metadata": {},
   "source": [
    "Reverse a list using slicing."
   ]
  },
  {
   "cell_type": "code",
   "execution_count": 41,
   "id": "c11e7110",
   "metadata": {},
   "outputs": [
    {
     "name": "stdout",
     "output_type": "stream",
     "text": [
      "[5, 'banana', 3.14, 'apple', 1]\n"
     ]
    }
   ],
   "source": [
    "reversed_list = mixed_list[::-1]\n",
    "print(reversed_list)\n"
   ]
  },
  {
   "cell_type": "markdown",
   "id": "5f45b7a8",
   "metadata": {},
   "source": [
    " Create two lists and concatenate them.\n"
   ]
  },
  {
   "cell_type": "code",
   "execution_count": 42,
   "id": "2c210b01",
   "metadata": {},
   "outputs": [
    {
     "name": "stdout",
     "output_type": "stream",
     "text": [
      "[1, 2, 3, 4, 5, 6]\n"
     ]
    }
   ],
   "source": [
    "list1 = [1, 2, 3]\n",
    "list2 = [4, 5, 6]\n",
    "concatenated_list = list1 + list2\n",
    "print(concatenated_list)\n"
   ]
  },
  {
   "cell_type": "markdown",
   "id": "a6c019d7",
   "metadata": {},
   "source": [
    "\n",
    "Repeat a list multiple times using the repetition operator"
   ]
  },
  {
   "cell_type": "code",
   "execution_count": 43,
   "id": "b40d10b9",
   "metadata": {},
   "outputs": [
    {
     "name": "stdout",
     "output_type": "stream",
     "text": [
      "[1, 2, 3, 1, 2, 3, 1, 2, 3]\n"
     ]
    }
   ],
   "source": [
    "repeated_list = list1 * 3 \n",
    "print(repeated_list)\n"
   ]
  },
  {
   "cell_type": "markdown",
   "id": "0fdf9b21",
   "metadata": {},
   "source": [
    "Add a new element to the end of a list using the append() method.\n"
   ]
  },
  {
   "cell_type": "code",
   "execution_count": 44,
   "id": "86906fc9",
   "metadata": {},
   "outputs": [
    {
     "name": "stdout",
     "output_type": "stream",
     "text": [
      "[1, 2, 3, 4]\n"
     ]
    }
   ],
   "source": [
    "new_list=[1,2,3]\n",
    "new_list.append(4)\n",
    "print(new_list)"
   ]
  },
  {
   "cell_type": "markdown",
   "id": "1812e852",
   "metadata": {},
   "source": [
    "\n",
    "Extend a list with elements from another list using the extend() method.\n"
   ]
  },
  {
   "cell_type": "code",
   "execution_count": 45,
   "id": "375a8ac2",
   "metadata": {},
   "outputs": [
    {
     "name": "stdout",
     "output_type": "stream",
     "text": [
      "[1, 2, 3, 4, 5, 6]\n"
     ]
    }
   ],
   "source": [
    "list1.extend(list2) \n",
    "print(list1)\n"
   ]
  },
  {
   "cell_type": "markdown",
   "id": "b4285741",
   "metadata": {},
   "source": [
    "Insert an element at a specific index in a list using the insert() method."
   ]
  },
  {
   "cell_type": "code",
   "execution_count": 46,
   "id": "5e5b2a93",
   "metadata": {},
   "outputs": [
    {
     "name": "stdout",
     "output_type": "stream",
     "text": [
      "[1, 2, 3, 4, 5, 6, 7]\n"
     ]
    }
   ],
   "source": [
    "my_list = [1, 2, 3, 5, 6, 7]\n",
    "my_list.insert(3, 4) \n",
    "print(my_list)\n"
   ]
  },
  {
   "cell_type": "markdown",
   "id": "5926ef7b",
   "metadata": {},
   "source": [
    " Remove the last element from a list using the pop() method.\n",
    "\n"
   ]
  },
  {
   "cell_type": "code",
   "execution_count": 47,
   "id": "4e3c8c6d",
   "metadata": {},
   "outputs": [
    {
     "name": "stdout",
     "output_type": "stream",
     "text": [
      "[1, 2, 3, 4, 5, 6]\n"
     ]
    }
   ],
   "source": [
    "my_list.pop()\n",
    "print(my_list)"
   ]
  },
  {
   "cell_type": "markdown",
   "id": "34faaad1",
   "metadata": {},
   "source": [
    "Remove a specific element from a list using the remove() method.\n"
   ]
  },
  {
   "cell_type": "code",
   "execution_count": 48,
   "id": "2706c63d",
   "metadata": {},
   "outputs": [
    {
     "name": "stdout",
     "output_type": "stream",
     "text": [
      "[1, 3, 4, 5, 6]\n"
     ]
    }
   ],
   "source": [
    "my_list.remove(2)\n",
    "print(my_list)"
   ]
  },
  {
   "cell_type": "markdown",
   "id": "b066a57c",
   "metadata": {},
   "source": [
    "Clear all elements from a list.\n"
   ]
  },
  {
   "cell_type": "code",
   "execution_count": 49,
   "id": "a4cb30f8",
   "metadata": {},
   "outputs": [
    {
     "name": "stdout",
     "output_type": "stream",
     "text": [
      "[]\n"
     ]
    }
   ],
   "source": [
    "my_list.clear()\n",
    "print(my_list)"
   ]
  },
  {
   "cell_type": "markdown",
   "id": "f9d4754d",
   "metadata": {},
   "source": [
    "Delete an element at a specific index using the del statement."
   ]
  },
  {
   "cell_type": "code",
   "execution_count": 50,
   "id": "adbc06c2",
   "metadata": {},
   "outputs": [
    {
     "name": "stdout",
     "output_type": "stream",
     "text": [
      "[1, 2, 4, 5]\n"
     ]
    }
   ],
   "source": [
    "my_list2 = [1, 2, 3, 4, 5]\n",
    "del my_list2[2]  \n",
    "print(my_list2)\n"
   ]
  },
  {
   "cell_type": "markdown",
   "id": "6fda5133",
   "metadata": {},
   "source": [
    "Convert a string to a list of characters and vice-versa."
   ]
  },
  {
   "cell_type": "code",
   "execution_count": 51,
   "id": "7c9fe1dc",
   "metadata": {},
   "outputs": [
    {
     "name": "stdout",
     "output_type": "stream",
     "text": [
      "['h', 'e', 'l', 'l', 'o']\n",
      "hello\n"
     ]
    }
   ],
   "source": [
    "my_string = \"hello\"\n",
    "char_list = list(my_string)\n",
    "print(char_list)\n",
    "char_list = ['h', 'e', 'l', 'l', 'o']\n",
    "my_string = ''.join(char_list)\n",
    "print(my_string)\n"
   ]
  },
  {
   "cell_type": "markdown",
   "id": "d2e3ada5",
   "metadata": {},
   "source": [
    "Sort a list in ascending order using the sort() method."
   ]
  },
  {
   "cell_type": "code",
   "execution_count": 52,
   "id": "749b040c",
   "metadata": {},
   "outputs": [
    {
     "name": "stdout",
     "output_type": "stream",
     "text": [
      "[1, 1, 2, 3, 4, 5, 6, 9]\n"
     ]
    }
   ],
   "source": [
    "my_list = [3, 1, 4, 1, 5, 9, 2, 6]\n",
    "my_list.sort() \n",
    "print(my_list)\n"
   ]
  },
  {
   "cell_type": "markdown",
   "id": "38fd874e",
   "metadata": {},
   "source": [
    "\n",
    "#Sort a list in descending order using the sort() method.\n"
   ]
  },
  {
   "cell_type": "code",
   "execution_count": 53,
   "id": "9d3b86b3",
   "metadata": {},
   "outputs": [
    {
     "name": "stdout",
     "output_type": "stream",
     "text": [
      "[9, 6, 5, 4, 3, 2, 1, 1]\n"
     ]
    }
   ],
   "source": [
    "my_list.sort(reverse=True)  \n",
    "print(my_list)\n"
   ]
  },
  {
   "cell_type": "markdown",
   "id": "04c5419a",
   "metadata": {},
   "source": [
    "Reverse the order of a list using the reverse() method.\n"
   ]
  },
  {
   "cell_type": "code",
   "execution_count": 54,
   "id": "f0eac28f",
   "metadata": {},
   "outputs": [
    {
     "name": "stdout",
     "output_type": "stream",
     "text": [
      "[6, 2, 9, 5, 1, 4, 1, 3]\n"
     ]
    }
   ],
   "source": [
    "my_list = [3, 1, 4, 1, 5, 9, 2, 6]\n",
    "my_list.reverse()  \n",
    "print(my_list)\n"
   ]
  },
  {
   "cell_type": "markdown",
   "id": "ea816319",
   "metadata": {},
   "source": [
    "Check if an element is present in a list using the in operator.\n"
   ]
  },
  {
   "cell_type": "code",
   "execution_count": 55,
   "id": "db2e8041",
   "metadata": {},
   "outputs": [
    {
     "name": "stdout",
     "output_type": "stream",
     "text": [
      "3 is present in the list.\n"
     ]
    }
   ],
   "source": [
    "my_list = [1, 2, 3, 4, 5]\n",
    "element = 3\n",
    "if element in my_list:\n",
    "    print(f\"{element} is present in the list.\")\n",
    "else:\n",
    "    print(f\"{element} is not present in the list.\")\n"
   ]
  },
  {
   "cell_type": "markdown",
   "id": "f17e9e0a",
   "metadata": {},
   "source": [
    "Compare two lists to see if they are equal in both value and identity.\n"
   ]
  },
  {
   "cell_type": "code",
   "execution_count": 56,
   "id": "cc5763b1",
   "metadata": {},
   "outputs": [
    {
     "name": "stdout",
     "output_type": "stream",
     "text": [
      "The lists are equal in value.\n",
      "The lists are not equal in identity.\n"
     ]
    }
   ],
   "source": [
    "list1 = [1, 2, 3]\n",
    "list2 = [1, 2, 3]\n",
    "\n",
    "if list1 == list2:\n",
    "    print(\"The lists are equal in value.\")\n",
    "else:\n",
    "    print(\"The lists are not equal in value.\")\n",
    "\n",
    "if list1 is list2:\n",
    "    print(\"The lists are equal in identity.\")\n",
    "else:\n",
    "    print(\"The lists are not equal in identity.\")\n"
   ]
  },
  {
   "cell_type": "markdown",
   "id": "19d815f3",
   "metadata": {},
   "source": [
    "Create a shallow copy of a list and modify one of the lists to observe the effects on the other.\n"
   ]
  },
  {
   "cell_type": "code",
   "execution_count": 57,
   "id": "92979606",
   "metadata": {},
   "outputs": [
    {
     "name": "stdout",
     "output_type": "stream",
     "text": [
      "Original List: [[1, 1, 4], 2, 3, 6]\n",
      "Shallow Copy: [[1, 1, 4], 2, 3]\n"
     ]
    }
   ],
   "source": [
    "original_list = [[1,1], 2, 3]\n",
    "\n",
    "shallow_copy = original_list.copy()  \n",
    "\n",
    "original_list.append(6)\n",
    "shallow_copy[0].append(4)\n",
    "\n",
    "# Print both lists\n",
    "print(\"Original List:\", original_list)\n",
    "print(\"Shallow Copy:\", shallow_copy)\n"
   ]
  },
  {
   "cell_type": "markdown",
   "id": "6c8f1702",
   "metadata": {},
   "source": [
    "Create a deep copy of a nested list and modify one of the lists to observe the effects on the other."
   ]
  },
  {
   "cell_type": "code",
   "execution_count": 58,
   "id": "87a8af6d",
   "metadata": {},
   "outputs": [
    {
     "name": "stdout",
     "output_type": "stream",
     "text": [
      "Original Nested List: [[1, 1, 5], 2, 3, 5]\n",
      "Deep Copy: [[1, 1, 10], 2, 3, 10]\n"
     ]
    }
   ],
   "source": [
    "import copy\n",
    "\n",
    "original_list = [[1,1], 2, 3]\n",
    "\n",
    "deep_copy = copy.deepcopy(original_list)\n",
    "\n",
    "original_list[0].append(5)\n",
    "original_list.append(5)\n",
    "deep_copy[0].append(10)\n",
    "deep_copy.append(10)\n",
    "\n",
    "print(\"Original Nested List:\", original_list)\n",
    "print(\"Deep Copy:\", deep_copy)\n"
   ]
  },
  {
   "cell_type": "markdown",
   "id": "c52154a0",
   "metadata": {},
   "source": [
    "Pickle and Unpickle a list and display its content."
   ]
  },
  {
   "cell_type": "code",
   "execution_count": 59,
   "id": "2c97aff5",
   "metadata": {},
   "outputs": [],
   "source": [
    "import pickle\n",
    "\n",
    "my_list = [1, 2, 3, 4, 5]\n",
    "\n",
    "# Pickle the list\n",
    "with open(\"my_list.pkl\", \"wb\") as file:\n",
    "    pickle.dump(my_list, file)\n"
   ]
  },
  {
   "cell_type": "code",
   "execution_count": 60,
   "id": "9415e114",
   "metadata": {},
   "outputs": [
    {
     "name": "stdout",
     "output_type": "stream",
     "text": [
      "Unpickled List: [1, 2, 3, 4, 5]\n"
     ]
    }
   ],
   "source": [
    "# Unpickle the list\n",
    "with open(\"my_list.pkl\", \"rb\") as file:\n",
    "    unpickled_list = pickle.load(file)\n",
    "\n",
    "# Display the content of the unpickled list\n",
    "print(\"Unpickled List:\", unpickled_list)\n"
   ]
  }
 ],
 "metadata": {
  "kernelspec": {
   "display_name": "Python 3 (ipykernel)",
   "language": "python",
   "name": "python3"
  },
  "language_info": {
   "codemirror_mode": {
    "name": "ipython",
    "version": 3
   },
   "file_extension": ".py",
   "mimetype": "text/x-python",
   "name": "python",
   "nbconvert_exporter": "python",
   "pygments_lexer": "ipython3",
   "version": "3.12.0"
  }
 },
 "nbformat": 4,
 "nbformat_minor": 5
}
