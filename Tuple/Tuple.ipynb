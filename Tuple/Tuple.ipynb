{
 "cells": [
  {
   "cell_type": "markdown",
   "id": "1488806a",
   "metadata": {},
   "source": [
    "### Assignment-04 (Tuple)"
   ]
  },
  {
   "cell_type": "markdown",
   "id": "0f49daa5",
   "metadata": {},
   "source": [
    "    Create an empty tuple and print it.\n",
    "        "
   ]
  },
  {
   "cell_type": "code",
   "execution_count": 1,
   "id": "9f34fb22",
   "metadata": {},
   "outputs": [
    {
     "name": "stdout",
     "output_type": "stream",
     "text": [
      "()\n"
     ]
    }
   ],
   "source": [
    "empty_tuple = ()\n",
    "print(empty_tuple)\n"
   ]
  },
  {
   "cell_type": "markdown",
   "id": "e043fa87",
   "metadata": {},
   "source": [
    "    Create a tuple of your favorite fruits and print it.\n"
   ]
  },
  {
   "cell_type": "code",
   "execution_count": 2,
   "id": "a8075e3e",
   "metadata": {},
   "outputs": [
    {
     "name": "stdout",
     "output_type": "stream",
     "text": [
      "('apple', 'banana', 'orange')\n"
     ]
    }
   ],
   "source": [
    "fvrt_fruits = ('apple', 'banana', 'orange')\n",
    "print(fvrt_fruits)"
   ]
  },
  {
   "cell_type": "markdown",
   "id": "63103aae",
   "metadata": {},
   "source": [
    "    Create a tuple that includes a mix of data types (integers, strings, floats).\n",
    "  "
   ]
  },
  {
   "cell_type": "code",
   "execution_count": 3,
   "id": "02d21498",
   "metadata": {},
   "outputs": [
    {
     "name": "stdout",
     "output_type": "stream",
     "text": [
      "(1, 'hello', 3.14, 5, 'world')\n"
     ]
    }
   ],
   "source": [
    "mixed_tuple = (1, 'hello', 3.14, 5, 'world')\n",
    "\n",
    "print(mixed_tuple)\n"
   ]
  },
  {
   "cell_type": "markdown",
   "id": "704e22bb",
   "metadata": {},
   "source": [
    "  Access the first element of a tuple.\n"
   ]
  },
  {
   "cell_type": "code",
   "execution_count": 4,
   "id": "bf90e463",
   "metadata": {},
   "outputs": [
    {
     "name": "stdout",
     "output_type": "stream",
     "text": [
      "First element of the tuple: apple\n"
     ]
    }
   ],
   "source": [
    "my_tuple = ('apple', 'banana', 'orange', 'watermelon', 'mango')\n",
    "\n",
    "first_element = my_tuple[0]\n",
    "\n",
    "print(\"First element of the tuple:\", first_element)\n"
   ]
  },
  {
   "cell_type": "markdown",
   "id": "26563419",
   "metadata": {},
   "source": [
    "    Access the last element of a tuple."
   ]
  },
  {
   "cell_type": "code",
   "execution_count": 5,
   "id": "54b98b3a",
   "metadata": {},
   "outputs": [
    {
     "name": "stdout",
     "output_type": "stream",
     "text": [
      "First element of the tuple: mango\n"
     ]
    }
   ],
   "source": [
    "first_element = my_tuple[-1]\n",
    "\n",
    "print(\"First element of the tuple:\", first_element)\n"
   ]
  },
  {
   "cell_type": "markdown",
   "id": "15d49e96",
   "metadata": {},
   "source": [
    "Access the second and third elements of a tuple.\n"
   ]
  },
  {
   "cell_type": "code",
   "execution_count": 6,
   "id": "1b8f2886",
   "metadata": {},
   "outputs": [
    {
     "name": "stdout",
     "output_type": "stream",
     "text": [
      "Second element of the tuple: banana\n",
      "Third element of the tuple: orange\n"
     ]
    }
   ],
   "source": [
    "first_element = my_tuple[1]\n",
    "second_element = my_tuple[2]\n",
    "\n",
    "print(\"Second element of the tuple:\", first_element)\n",
    "print(\"Third element of the tuple:\", second_element)\n",
    "\n"
   ]
  },
  {
   "cell_type": "markdown",
   "id": "069741b2",
   "metadata": {},
   "source": [
    "\n",
    "    Slice a tuple to extract the first three elements.\n",
    "    "
   ]
  },
  {
   "cell_type": "code",
   "execution_count": 7,
   "id": "ba3f17f2",
   "metadata": {},
   "outputs": [
    {
     "name": "stdout",
     "output_type": "stream",
     "text": [
      "('apple', 'banana', 'orange')\n"
     ]
    }
   ],
   "source": [
    "first_three_ele = my_tuple[:3]\n",
    "print(first_three_ele)"
   ]
  },
  {
   "cell_type": "markdown",
   "id": "f5f8af36",
   "metadata": {},
   "source": [
    "Slice a tuple to extract the last three elements.\n",
    " "
   ]
  },
  {
   "cell_type": "code",
   "execution_count": 8,
   "id": "72b61419",
   "metadata": {},
   "outputs": [
    {
     "name": "stdout",
     "output_type": "stream",
     "text": [
      "('orange', 'watermelon', 'mango')\n"
     ]
    }
   ],
   "source": [
    "last_three_ele = my_tuple[-3:]\n",
    "print(last_three_ele)"
   ]
  },
  {
   "cell_type": "markdown",
   "id": "fbf3a8e6",
   "metadata": {},
   "source": [
    "   Slice a tuple to get every second element.\n"
   ]
  },
  {
   "cell_type": "code",
   "execution_count": 9,
   "id": "2f28222b",
   "metadata": {},
   "outputs": [
    {
     "name": "stdout",
     "output_type": "stream",
     "text": [
      "('apple', 'orange', 'mango')\n"
     ]
    }
   ],
   "source": [
    "every_second_ele = my_tuple[::2]\n",
    "print(every_second_ele)"
   ]
  },
  {
   "cell_type": "markdown",
   "id": "972a3d7e",
   "metadata": {},
   "source": [
    "    Reverse a tuple using slicing."
   ]
  },
  {
   "cell_type": "code",
   "execution_count": 10,
   "id": "a0c026b2",
   "metadata": {},
   "outputs": [
    {
     "name": "stdout",
     "output_type": "stream",
     "text": [
      "('mango', 'watermelon', 'orange', 'banana', 'apple')\n"
     ]
    }
   ],
   "source": [
    "rev_tup = my_tuple[::-1]\n",
    "print(rev_tup)"
   ]
  },
  {
   "cell_type": "markdown",
   "id": "ff819f8c",
   "metadata": {},
   "source": [
    "Create two tuples and concatenate them.\n",
    "\n"
   ]
  },
  {
   "cell_type": "code",
   "execution_count": 11,
   "id": "34bb1253",
   "metadata": {},
   "outputs": [
    {
     "name": "stdout",
     "output_type": "stream",
     "text": [
      "Concatenated tuple: (1, 2, 3, 'a', 'b', 'c')\n"
     ]
    }
   ],
   "source": [
    "tuple1 = (1, 2, 3)\n",
    "tuple2 = ('a', 'b', 'c')\n",
    "\n",
    "concatenated_tuple = tuple1 + tuple2\n",
    "\n",
    "print(\"Concatenated tuple:\", concatenated_tuple)\n"
   ]
  },
  {
   "cell_type": "markdown",
   "id": "6f81c447",
   "metadata": {},
   "source": [
    "    Repeat a tuple multiple times using the repetition operator."
   ]
  },
  {
   "cell_type": "code",
   "execution_count": 12,
   "id": "a7993e54",
   "metadata": {},
   "outputs": [
    {
     "name": "stdout",
     "output_type": "stream",
     "text": [
      "Repeated tuple: ('apple', 'banana', 'orange', 'watermelon', 'mango', 'apple', 'banana', 'orange', 'watermelon', 'mango', 'apple', 'banana', 'orange', 'watermelon', 'mango')\n"
     ]
    }
   ],
   "source": [
    "repeated_tuple = my_tuple * 3\n",
    "\n",
    "print(\"Repeated tuple:\", repeated_tuple)"
   ]
  },
  {
   "cell_type": "markdown",
   "id": "e39bdb1d",
   "metadata": {},
   "source": [
    "Find the index of a specific element in a tuple using the index() method."
   ]
  },
  {
   "cell_type": "code",
   "execution_count": 13,
   "id": "d0887521",
   "metadata": {},
   "outputs": [
    {
     "name": "stdout",
     "output_type": "stream",
     "text": [
      "Index of 'banana': 1\n"
     ]
    }
   ],
   "source": [
    "index_of_banana = my_tuple.index('banana')\n",
    "\n",
    "print(\"Index of 'banana':\", index_of_banana)\n"
   ]
  },
  {
   "cell_type": "markdown",
   "id": "fc66ca7e",
   "metadata": {},
   "source": [
    "    Count the number of occurrences of a specific element in a tuple using the count() method."
   ]
  },
  {
   "cell_type": "code",
   "execution_count": 14,
   "id": "d9bf2831",
   "metadata": {},
   "outputs": [
    {
     "name": "stdout",
     "output_type": "stream",
     "text": [
      "Number of occurrences of 'banana': 1\n"
     ]
    }
   ],
   "source": [
    "count_of_banana = my_tuple.count('banana')\n",
    "\n",
    "print(\"Number of occurrences of 'banana':\", count_of_banana)"
   ]
  },
  {
   "cell_type": "markdown",
   "id": "9bdef970",
   "metadata": {},
   "source": [
    "Sort a tuple of numbers in ascending order.\n",
    "\n"
   ]
  },
  {
   "cell_type": "code",
   "execution_count": 15,
   "id": "326fca51",
   "metadata": {},
   "outputs": [
    {
     "name": "stdout",
     "output_type": "stream",
     "text": [
      "Sorted tuple: (1, 2, 4, 5, 7)\n"
     ]
    }
   ],
   "source": [
    "my_tuple = (4, 2, 7, 1, 5)\n",
    "\n",
    "lst = list(my_tuple)\n",
    "lst.sort()\n",
    "\n",
    "my_tuple = tuple(lst)\n",
    "\n",
    "print(\"Sorted tuple:\", my_tuple)\n"
   ]
  },
  {
   "cell_type": "markdown",
   "id": "2b1d9be5",
   "metadata": {},
   "source": [
    "    Sort a tuple of strings in alphabetical order."
   ]
  },
  {
   "cell_type": "code",
   "execution_count": 16,
   "id": "5b0a511f",
   "metadata": {},
   "outputs": [
    {
     "name": "stdout",
     "output_type": "stream",
     "text": [
      "Sorted tuple: ('apple', 'banana', 'kiwi', 'orange')\n"
     ]
    }
   ],
   "source": [
    "my_tuple = ('banana', 'apple', 'orange', 'kiwi')\n",
    "\n",
    "my_list = list(my_tuple)\n",
    "my_list.sort()\n",
    "\n",
    "sorted_tuple = tuple(my_list)\n",
    "\n",
    "print(\"Sorted tuple:\", sorted_tuple)\n"
   ]
  },
  {
   "cell_type": "markdown",
   "id": "0393ae63",
   "metadata": {},
   "source": [
    "Sort a tuple of tuples based on the second element of each inner tuple."
   ]
  },
  {
   "cell_type": "code",
   "execution_count": 17,
   "id": "5b0d33fd",
   "metadata": {},
   "outputs": [
    {
     "name": "stdout",
     "output_type": "stream",
     "text": [
      "Sorted tuple: ((3, 1), (2, 3), (1, 5), (4, 7))\n"
     ]
    }
   ],
   "source": [
    "my_tuple = ((1, 5), (2, 3), (3, 1), (4, 7))\n",
    "\n",
    "sorted_tuple = tuple(sorted(my_tuple, key=lambda x: x[1]))\n",
    "\n",
    "print(\"Sorted tuple:\", sorted_tuple)\n"
   ]
  },
  {
   "cell_type": "markdown",
   "id": "65b8f449",
   "metadata": {},
   "source": [
    "Compare two tuples to see if they are equal in both value and identity."
   ]
  },
  {
   "cell_type": "code",
   "execution_count": 18,
   "id": "e09a6135",
   "metadata": {},
   "outputs": [
    {
     "name": "stdout",
     "output_type": "stream",
     "text": [
      "Are tuple1 and tuple2 equal in value? True\n",
      "Are tuple1 and tuple2 equal in identity? False\n"
     ]
    }
   ],
   "source": [
    "tuple1 = (1, 2, 3)\n",
    "tuple2 = (1, 2, 3)\n",
    "\n",
    "# Check if tuple1 and tuple2 are equal in value\n",
    "print(\"Are tuple1 and tuple2 equal in value?\", tuple1 == tuple2)\n",
    "\n",
    "# Check if tuple1 and tuple2 are equal in identity\n",
    "print(\"Are tuple1 and tuple2 equal in identity?\", tuple1 is tuple2)\n"
   ]
  },
  {
   "cell_type": "markdown",
   "id": "0810cc18",
   "metadata": {},
   "source": [
    "Create a shallow copy of a tuple and observe the effects of modifying one of the tuples.\n",
    "\n"
   ]
  },
  {
   "cell_type": "code",
   "execution_count": 19,
   "id": "426bacd6",
   "metadata": {},
   "outputs": [
    {
     "name": "stdout",
     "output_type": "stream",
     "text": [
      "Error: 'tuple' object does not support item assignment\n",
      "Original tuple: (1, 2, 3)\n",
      "Shallow copy: (1, 2, 3)\n"
     ]
    }
   ],
   "source": [
    "original_tuple = (1, 2, 3)\n",
    "\n",
    "shallow_copy = original_tuple\n",
    "\n",
    "# Modify one of the tuples\n",
    "try:\n",
    "    shallow_copy[0] = 4\n",
    "except TypeError as e:\n",
    "    print(\"Error:\", e)\n",
    "\n",
    "print(\"Original tuple:\", original_tuple)\n",
    "print(\"Shallow copy:\", shallow_copy)\n"
   ]
  },
  {
   "cell_type": "markdown",
   "id": "f14455c5",
   "metadata": {},
   "source": [
    "    Create a deep copy of a nested tuple and observe the effects of modifying one of the tuples.\n"
   ]
  },
  {
   "cell_type": "code",
   "execution_count": 20,
   "id": "4564c764",
   "metadata": {},
   "outputs": [
    {
     "name": "stdout",
     "output_type": "stream",
     "text": [
      "Original nested tuple: ((1, 2), [3, 4])\n",
      "Deep copy: ((1, 2), [5, 4])\n"
     ]
    }
   ],
   "source": [
    "import copy\n",
    "\n",
    "original_nested_tuple = ((1, 2), [3, 4])\n",
    "deep_copy = copy.deepcopy(original_nested_tuple)\n",
    "\n",
    "deep_copy[1][0] = 5\n",
    "\n",
    "print(\"Original nested tuple:\", original_nested_tuple)\n",
    "print(\"Deep copy:\", deep_copy)\n"
   ]
  },
  {
   "cell_type": "markdown",
   "id": "b01879a0",
   "metadata": {},
   "source": [
    "    Pickle a tuple and save it to a file.\n"
   ]
  },
  {
   "cell_type": "code",
   "execution_count": 21,
   "id": "55ddfbd4",
   "metadata": {},
   "outputs": [
    {
     "name": "stdout",
     "output_type": "stream",
     "text": [
      "Tuple pickled and saved to: pickled_tuple.pkl\n"
     ]
    }
   ],
   "source": [
    "import pickle\n",
    "\n",
    "my_tuple = (1, 2, 3, 'hello', 'world')\n",
    "\n",
    "file_path = 'pickled_tuple.pkl'\n",
    "\n",
    "with open(file_path, 'wb') as f:\n",
    "    pickle.dump(my_tuple, f)\n",
    "\n",
    "print(\"Tuple pickled and saved to:\", file_path)\n"
   ]
  },
  {
   "cell_type": "markdown",
   "id": "6874f46a",
   "metadata": {},
   "source": [
    "    Unpickle a tuple from a file and display its content."
   ]
  },
  {
   "cell_type": "code",
   "execution_count": 22,
   "id": "02f8549f",
   "metadata": {},
   "outputs": [
    {
     "name": "stdout",
     "output_type": "stream",
     "text": [
      "Unpickled tuple: (1, 2, 3, 'hello', 'world')\n"
     ]
    }
   ],
   "source": [
    "import pickle\n",
    "\n",
    "# File path from which to unpickle the tuple\n",
    "file_path = 'pickled_tuple.pkl'\n",
    "\n",
    "# Unpickle the tuple from the file\n",
    "with open(file_path, 'rb') as f:\n",
    "    unpickled_tuple = pickle.load(f)\n",
    "\n",
    "print(\"Unpickled tuple:\", unpickled_tuple)\n"
   ]
  }
 ],
 "metadata": {
  "kernelspec": {
   "display_name": "Python 3 (ipykernel)",
   "language": "python",
   "name": "python3"
  },
  "language_info": {
   "codemirror_mode": {
    "name": "ipython",
    "version": 3
   },
   "file_extension": ".py",
   "mimetype": "text/x-python",
   "name": "python",
   "nbconvert_exporter": "python",
   "pygments_lexer": "ipython3",
   "version": "3.12.0"
  }
 },
 "nbformat": 4,
 "nbformat_minor": 5
}
