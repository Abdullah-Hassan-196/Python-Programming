{
 "cells": [
  {
   "cell_type": "markdown",
   "id": "829e5193",
   "metadata": {},
   "source": [
    "### Assignment-06 (Exceptions)\n"
   ]
  },
  {
   "cell_type": "markdown",
   "id": "5020de16",
   "metadata": {},
   "source": [
    "Write a Python program that demonstrates a simple try-except block to handle a ZeroDivisionError."
   ]
  },
  {
   "cell_type": "code",
   "execution_count": 1,
   "id": "b2481e98",
   "metadata": {},
   "outputs": [
    {
     "name": "stdout",
     "output_type": "stream",
     "text": [
      "Error: Cannot divide by zero\n"
     ]
    }
   ],
   "source": [
    "def divide_numbers(num1, num2):\n",
    "    try:\n",
    "        result = num1 / num2\n",
    "        print(\"Result of division:\", result)\n",
    "    except ZeroDivisionError:\n",
    "        print(\"Error: Cannot divide by zero\")\n",
    "\n",
    "numerator = 10\n",
    "denominator = 0\n",
    "\n",
    "divide_numbers(numerator, denominator)\n"
   ]
  },
  {
   "cell_type": "markdown",
   "id": "510c0b9e",
   "metadata": {},
   "source": [
    "What is the purpose of the else clause in a try-except block? Provide an example."
   ]
  },
  {
   "cell_type": "code",
   "execution_count": 2,
   "id": "19e00491",
   "metadata": {},
   "outputs": [
    {
     "name": "stdout",
     "output_type": "stream",
     "text": [
      "Result of division: 5.0\n"
     ]
    }
   ],
   "source": [
    "def divide_numbers(num1, num2):\n",
    "    try:\n",
    "        result = num1 / num2\n",
    "    except ZeroDivisionError:\n",
    "        print(\"Error: Cannot divide by zero\")\n",
    "    else:\n",
    "        print(\"Result of division:\", result)\n",
    "\n",
    "numerator = 10\n",
    "denominator = 2\n",
    "\n",
    "divide_numbers(numerator, denominator)\n",
    "#In this example, if num2 is not zero, the division operation will be successful and the code inside the else block will be executed, printing the result of the division. However, if num2 is zero, a ZeroDivisionError will be raised, and the code inside the except block will be executed instead.\n"
   ]
  },
  {
   "cell_type": "markdown",
   "id": "213e8438",
   "metadata": {},
   "source": [
    "Explain the role of the finally keyword in exception handling. Write a code snippet to demonstrate its use."
   ]
  },
  {
   "cell_type": "code",
   "execution_count": 3,
   "id": "4f6335f4",
   "metadata": {},
   "outputs": [
    {
     "name": "stdout",
     "output_type": "stream",
     "text": [
      "Error: Cannot divide by zero\n",
      "Division operation completed.\n"
     ]
    }
   ],
   "source": [
    "def divide_numbers(num1, num2):\n",
    "    try:\n",
    "        result = num1 / num2\n",
    "        print(\"Result of division:\", result)\n",
    "    except ZeroDivisionError:\n",
    "        print(\"Error: Cannot divide by zero\")\n",
    "    finally:\n",
    "        print(\"Division operation completed.\")\n",
    "\n",
    "numerator = 10\n",
    "denominator = 0\n",
    "\n",
    "divide_numbers(numerator, denominator)\n",
    "\n",
    "#The code under block \"finally\" will always executed whether there is a zero division or not.\n"
   ]
  },
  {
   "cell_type": "markdown",
   "id": "28a825cd",
   "metadata": {},
   "source": [
    "Write a program that uses a try-except block to handle a FileNotFoundError."
   ]
  },
  {
   "cell_type": "code",
   "execution_count": 4,
   "id": "a40b08be",
   "metadata": {},
   "outputs": [
    {
     "name": "stdout",
     "output_type": "stream",
     "text": [
      "Error: File 'nonexistent_file.txt' not found.\n"
     ]
    }
   ],
   "source": [
    "def read_file(file_path):\n",
    "    try:\n",
    "        file = open(file_path, 'r')\n",
    "        contents = file.read()\n",
    "        print(\"File contents:\")\n",
    "        print(contents)\n",
    "        file.close()  # Close the file after reading\n",
    "    except FileNotFoundError:\n",
    "        print(f\"Error: File '{file_path}' not found.\")\n",
    "\n",
    "file_path = \"nonexistent_file.txt\"\n",
    "read_file(file_path)\n"
   ]
  },
  {
   "cell_type": "markdown",
   "id": "b518674e",
   "metadata": {},
   "source": [
    "Create a Python program that uses multiple except clauses to handle different types of exceptions."
   ]
  },
  {
   "cell_type": "code",
   "execution_count": 5,
   "id": "11a3e481",
   "metadata": {},
   "outputs": [
    {
     "name": "stdout",
     "output_type": "stream",
     "text": [
      "Error: Cannot divide by zero\n",
      "Result of division: 2.5\n",
      "Error: Index out of range\n",
      "Result of division: 5.0\n",
      "Error: Index out of range\n"
     ]
    }
   ],
   "source": [
    "def perform_operation(x, y):\n",
    "    try:\n",
    "        result = x / y\n",
    "        print(\"Result of division:\", result)\n",
    "        # Trying to access index out of range\n",
    "        z = [1, 2, 3]\n",
    "        print(z[4])\n",
    "    except ZeroDivisionError:\n",
    "        print(\"Error: Cannot divide by zero\")\n",
    "    except IndexError:\n",
    "        print(\"Error: Index out of range\")\n",
    "    except Exception as e:\n",
    "        print(f\"Error: {e}\")\n",
    "\n",
    "perform_operation(10, 0)  \n",
    "perform_operation(5, 2)  \n",
    "perform_operation(10, 2)  \n"
   ]
  },
  {
   "cell_type": "markdown",
   "id": "37c93388",
   "metadata": {},
   "source": [
    "Implement a function that raises a custom exception if a given number is negative."
   ]
  },
  {
   "cell_type": "code",
   "execution_count": 6,
   "id": "09a7a16a",
   "metadata": {},
   "outputs": [
    {
     "name": "stdout",
     "output_type": "stream",
     "text": [
      "The number 5 is positive.\n",
      "Number -2 is negative.\n"
     ]
    }
   ],
   "source": [
    "class NegativeNumberError(Exception):\n",
    "\n",
    "    def __init__(self, number):\n",
    "        self.number = number\n",
    "        super().__init__(f\"Number {number} is negative.\")\n",
    "\n",
    "\n",
    "def check_positive_number(number):\n",
    "    if number < 0:\n",
    "        raise NegativeNumberError(number)\n",
    "    else:\n",
    "        print(f\"The number {number} is positive.\")\n",
    "\n",
    "\n",
    "try:\n",
    "    check_positive_number(5)  \n",
    "    check_positive_number(-2) \n",
    "except NegativeNumberError as e:\n",
    "    print(e)\n"
   ]
  },
  {
   "cell_type": "markdown",
   "id": "28762688",
   "metadata": {},
   "source": [
    "Write a function that uses the assert keyword to check if a given list is not empty."
   ]
  },
  {
   "cell_type": "code",
   "execution_count": 7,
   "id": "348bbe48",
   "metadata": {},
   "outputs": [],
   "source": [
    "def check_non_empty_list(input_list):\n",
    "    assert len(input_list) > 0, \"Input list must not be empty\"\n",
    "\n",
    "my_list = [1, 2, 3]\n",
    "check_non_empty_list(my_list)  # This will not raise an AssertionError\n",
    "\n"
   ]
  },
  {
   "cell_type": "markdown",
   "id": "f7861e8d",
   "metadata": {},
   "source": [
    "Develop a program that reads two numbers from the user and divides them. Handle different exceptions such as ZeroDivisionError and ValueError."
   ]
  },
  {
   "cell_type": "code",
   "execution_count": 8,
   "id": "ef8f7f27",
   "metadata": {},
   "outputs": [
    {
     "name": "stdout",
     "output_type": "stream",
     "text": [
      "Result of division: 0.6666666666666666\n"
     ]
    }
   ],
   "source": [
    "def divide_numbers():\n",
    "    try:\n",
    "        num1 = float(input(\"Enter the first number: \"))\n",
    "        num2 = float(input(\"Enter the second number: \"))\n",
    "        result = num1 / num2\n",
    "        print(\"Result of division:\", result)\n",
    "    except ValueError:\n",
    "        print(\"Error: Please enter valid numeric inputs\")\n",
    "    except ZeroDivisionError:\n",
    "        print(\"Error: Cannot divide by zero\")\n",
    "\n",
    "# Example usage\n",
    "divide_numbers()\n"
   ]
  },
  {
   "cell_type": "markdown",
   "id": "4a043e90",
   "metadata": {},
   "source": [
    "Write a function that takes a string as input and converts it to an integer. Handle the ValueError exception."
   ]
  },
  {
   "cell_type": "code",
   "execution_count": 9,
   "id": "273b88df",
   "metadata": {},
   "outputs": [
    {
     "name": "stdout",
     "output_type": "stream",
     "text": [
      "Converted integer: 1\n"
     ]
    }
   ],
   "source": [
    "def convert_to_integer(input_str):\n",
    "    try:\n",
    "        result = int(input_str)\n",
    "        return result\n",
    "    except ValueError:\n",
    "        print(\"Error: Input string is not a valid integer.\")\n",
    "        return None\n",
    "\n",
    "input_string = input(\"Enter a string to convert to an integer: \")\n",
    "converted_integer = convert_to_integer(input_string)\n",
    "if converted_integer is not None:\n",
    "    print(\"Converted integer:\", converted_integer)\n"
   ]
  },
  {
   "cell_type": "markdown",
   "id": "e09663a8",
   "metadata": {},
   "source": [
    "Create a program that uses the try, except, else, and finally blocks to open a file, read its contents, and print them."
   ]
  },
  {
   "cell_type": "code",
   "execution_count": 10,
   "id": "5f7daa25",
   "metadata": {},
   "outputs": [
    {
     "name": "stdout",
     "output_type": "stream",
     "text": [
      "Error: File 'example.txt' not found.\n"
     ]
    }
   ],
   "source": [
    "def read_file(file_name):\n",
    "    try:\n",
    "        file = open(file_name, 'r')\n",
    "    except FileNotFoundError:\n",
    "        print(f\"Error: File '{file_name}' not found.\")\n",
    "    else:\n",
    "        try:\n",
    "            contents = file.read()\n",
    "            print(\"File contents:\")\n",
    "            print(contents)\n",
    "        finally:\n",
    "            file.close()\n",
    "\n",
    "file_name = \"example.txt\"\n",
    "read_file(file_name)\n"
   ]
  },
  {
   "cell_type": "markdown",
   "id": "2f976b31",
   "metadata": {},
   "source": [
    "Define a custom exception class named CustomError. Write a program that raises this exception when a certain condition is met."
   ]
  },
  {
   "cell_type": "code",
   "execution_count": 11,
   "id": "58b2c87a",
   "metadata": {},
   "outputs": [
    {
     "name": "stdout",
     "output_type": "stream",
     "text": [
      "Custom error caught: The value should be non-negative.\n"
     ]
    }
   ],
   "source": [
    "class CustomError(Exception):\n",
    "\n",
    "    def __init__(self, message=\"A certain condition is met.\"):\n",
    "        self.message = message\n",
    "        super().__init__(self.message)\n",
    "\n",
    "def check_condition(x):\n",
    "    if x < 0:\n",
    "        raise CustomError(\"The value should be non-negative.\")\n",
    "\n",
    "try:\n",
    "    value = -5\n",
    "    check_condition(value)\n",
    "except CustomError as e:\n",
    "    print(\"Custom error caught:\", e)\n"
   ]
  },
  {
   "cell_type": "markdown",
   "id": "4718ee7b",
   "metadata": {},
   "source": [
    "Implement a function that reads a file and prints its content. If the file is not found, raise a FileNotFoundError with a custom error message."
   ]
  },
  {
   "cell_type": "code",
   "execution_count": 12,
   "id": "7d65d3f0",
   "metadata": {},
   "outputs": [
    {
     "name": "stdout",
     "output_type": "stream",
     "text": [
      "Error: File 'filename.txt' not found.\n"
     ]
    }
   ],
   "source": [
    "def read_file(file_name):\n",
    "    try:\n",
    "        file = open(file_name, \"r\")\n",
    "        contents = file.read()\n",
    "        print(\"File contents:\")\n",
    "        print(contents)\n",
    "        file.close()  \n",
    "    except FileNotFoundError:\n",
    "        raise FileNotFoundError(f\"Error: File '{file_name}' not found.\")\n",
    "\n",
    "file_name = \"filename.txt\"\n",
    "try:\n",
    "    read_file(file_name)\n",
    "except FileNotFoundError as e:\n",
    "    print(e)\n"
   ]
  },
  {
   "cell_type": "markdown",
   "id": "368cfff7",
   "metadata": {},
   "source": [
    "Develop a program that uses the assert keyword to check if a given number is positive. If not, raise an AssertionError with a custom message."
   ]
  },
  {
   "cell_type": "code",
   "execution_count": 13,
   "id": "dffe1621",
   "metadata": {},
   "outputs": [
    {
     "name": "stdout",
     "output_type": "stream",
     "text": [
      "Number -2 is not positive.\n"
     ]
    }
   ],
   "source": [
    "def check_positive_number(num):\n",
    "    assert num > 0, f\"Number {num} is not positive.\"\n",
    "\n",
    "try:\n",
    "    check_positive_number(5) \n",
    "    check_positive_number(-2) \n",
    "except AssertionError as e:\n",
    "    print(e)\n"
   ]
  },
  {
   "cell_type": "markdown",
   "id": "93fd3391",
   "metadata": {},
   "source": [
    "Create a function that calculates the square root of a positive number. Handle the ValueError exception if the user enters a negative number."
   ]
  },
  {
   "cell_type": "code",
   "execution_count": 14,
   "id": "33c71719",
   "metadata": {},
   "outputs": [
    {
     "name": "stdout",
     "output_type": "stream",
     "text": [
      "The square root of 9.0 is 3.0\n"
     ]
    }
   ],
   "source": [
    "import math\n",
    "\n",
    "def calculate_square_root(num):\n",
    "    try:\n",
    "        if num < 0:\n",
    "            raise ValueError(\"Input must be a non-negative number.\")\n",
    "        else:\n",
    "            result = math.sqrt(num)\n",
    "            return result\n",
    "    except ValueError as e:\n",
    "        print(f\"Error: {e}\")\n",
    "        return None\n",
    "\n",
    "number = float(input(\"Enter a number to calculate its square root: \"))\n",
    "square_root = calculate_square_root(number)\n",
    "if square_root is not None:\n",
    "    print(f\"The square root of {number} is {square_root}\")\n"
   ]
  }
 ],
 "metadata": {
  "kernelspec": {
   "display_name": "Python 3 (ipykernel)",
   "language": "python",
   "name": "python3"
  },
  "language_info": {
   "codemirror_mode": {
    "name": "ipython",
    "version": 3
   },
   "file_extension": ".py",
   "mimetype": "text/x-python",
   "name": "python",
   "nbconvert_exporter": "python",
   "pygments_lexer": "ipython3",
   "version": "3.12.0"
  }
 },
 "nbformat": 4,
 "nbformat_minor": 5
}
